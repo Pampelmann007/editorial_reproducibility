














from IPython.display import Image, display
display(Image("./media/placeholder.png"))




















import pandas as pd
import plotly.graph_objects as go
from datetime import datetime

# Define a date parser function
def date_parser(date_string):
    return pd.to_datetime(date_string, format='%d/%m/%Y', errors='coerce')

# Read the CSV file with explicit date parsing
df = pd.read_csv('JDH_review_chronology.csv',
                 parse_dates=['Abstract submission', 'Article submission', 'Technical review begins', 'Peer review start', 'Peer review end', 'Publication Date'],
                 date_parser=date_parser)

# Calculate durations
df['Technical Review duration'] = (df['Peer review start'] - df['Article submission']).dt.days
df['Peer Review Duration'] = (df['Peer review end'] - df['Peer review start']).dt.days
df['Review to Publication'] = (df['Publication Date'] - df['Peer review end']).dt.days

# Calculate total duration
df['Total Duration'] = (df['Publication Date'] - df['Article submission']).dt.days

# Sort by Issue and then by Total Duration within each Issue
df = df.sort_values(['Issue', 'Total Duration'], ascending=[True, True])

# Shorten titles, create clickable links, and include issue information
df['Short Title'] = df['Title'].apply(lambda x: x[:40] + '...' if len(x) > 43 else x)
df['Clickable Title'] = df.apply(lambda row: f'<b>{row["Issue"]}:</b> <a href="{row["URL"]}" target="_blank">{row["Short Title"]}</a>', axis=1)

# Create the figure
fig = go.Figure()

# Define colors (reversed order to match the new stage order)
colors = ['#ff7f0e', '#2ca02c', '#d62728'][::-1]

# Create stacked bars (reversed order of stages)
stages = ['Technical Review duration', 'Peer Review Duration', 'Review to Publication']
for i, stage in enumerate(stages):
    fig.add_trace(go.Bar(
        y=df['Clickable Title'],
        x=df[stage],
        name=stage,
        orientation='h',
        marker=dict(color=colors[i]),
        hoverinfo='name+x',
        hovertemplate='%{y}<br>%{name}: %{x} days<extra></extra>'
    ))

# Update layout
fig.update_layout(
    barmode='stack',
    title='Article Submission and Review Process Duration (Sorted by Issue)',
    xaxis_title='Number of Days',
    yaxis_title='Issue: Article Title',
    height=1000,  # Increased height to accommodate all titles
    width=1200,
    legend=dict(
        orientation="h",
        yanchor="bottom",
        y=1.02,
        xanchor="right",
        x=1,
        traceorder='reversed'  # This ensures the legend items are in the same order as the stacked bars
    )
)

# Update y-axis to render HTML
fig.update_layout(yaxis={
    'tickmode': 'array',
    'tickvals': list(range(len(df))),
    'ticktext': df['Clickable Title'],
    'tickfont': {'size': 10},
})


# Show the plot
fig.show()



